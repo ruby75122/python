{
  "nbformat": 4,
  "nbformat_minor": 0,
  "metadata": {
    "colab": {
      "name": "20200312 02_Up and Running with pandas.ipynb",
      "provenance": [],
      "collapsed_sections": [],
      "authorship_tag": "ABX9TyMFHUBMQEIkG2632p1pWDUE",
      "include_colab_link": true
    },
    "kernelspec": {
      "name": "python3",
      "display_name": "Python 3"
    }
  },
  "cells": [
    {
      "cell_type": "markdown",
      "metadata": {
        "id": "view-in-github",
        "colab_type": "text"
      },
      "source": [
        "<a href=\"https://colab.research.google.com/github/ruby75122/python/blob/master/20200312_02_Up_and_Running_with_pandas.ipynb\" target=\"_parent\"><img src=\"https://colab.research.google.com/assets/colab-badge.svg\" alt=\"Open In Colab\"/></a>"
      ]
    },
    {
      "cell_type": "code",
      "metadata": {
        "id": "SLEhUPcXsX4G",
        "colab_type": "code",
        "colab": {}
      },
      "source": [
        "3.1設定pandas"
      ],
      "execution_count": 0,
      "outputs": []
    },
    {
      "cell_type": "code",
      "metadata": {
        "id": "sKVwl2XETHd2",
        "colab_type": "code",
        "colab": {}
      },
      "source": [
        "# import numpy and pandas\n",
        "import numpy as np\n",
        "import pandas as pd\n",
        "\n",
        "# used for dates\n",
        "import datetime\n",
        "from datetime import datetime, date\n",
        "\n",
        "# Set some pandas options controlling output format\n",
        "pd.set_option('display.notebook_repr_html', False)\n",
        "pd.set_option('display.max_columns', 8)\n",
        "pd.set_option('display.max_rows', 10)\n",
        "pd.set_option('display.width', 80)\n",
        "\n",
        "# bring in matplotlib for graphics\n",
        "import matplotlib.pyplot as plt\n",
        "%matplotlib inline #魔術方法"
      ],
      "execution_count": 0,
      "outputs": []
    },
    {
      "cell_type": "code",
      "metadata": {
        "id": "Qbatz7tg13Ma",
        "colab_type": "code",
        "colab": {}
      },
      "source": [
        "https://www.yiibai.com/pandas/python_pandas_options_and_customization.html\n",
        "Pandas提供API来自定义其行为的某些方面，大多使用来显示。\n",
        "\n",
        "API由五个相关函数组成。它们分别是 -\n",
        "get_option()\n",
        "set_option()\n",
        "reset_option()\n",
        "describe_option()\n",
        "option_context()\n",
        "\n",
        "/*get_option(param)-需要一个参数，并返回下面输出中给出的值*/\n",
        "\n",
        "/*set_option(param,value)-需要两个参数，可以更改要显示的默认行数*/\n",
        "\n",
        "/*reset_option(param)-接受一个参数-使用reset_option()，可以将该值更改回显示的默认行数。*/\n",
        "\n",
        "/*describe_option(param)-describe_option打印参数的描述，可以将该值更改回显示的默认行数。*/\n",
        "\n",
        "/*option_context上下文管理器用于临时设置语句中的选项。当退出使用块时，选项值将自动恢复 -使用option_context()，可以临时设置该值。*/"
      ],
      "execution_count": 0,
      "outputs": []
    },
    {
      "cell_type": "code",
      "metadata": {
        "id": "S5rk1ox81w4t",
        "colab_type": "code",
        "outputId": "45d00b9e-beca-4606-aa89-bac5833090b0",
        "colab": {
          "base_uri": "https://localhost:8080/",
          "height": 51
        }
      },
      "source": [
        "import pandas as pd\n",
        "\n",
        "print (\"before set display.max_rows = \", pd.get_option(\"display.max_rows\")) \n",
        "\n",
        "pd.set_option(\"display.max_rows\",80)\n",
        "print (\"after set display.max_rows = \", pd.get_option(\"display.max_rows\"))\n",
        "\n"
      ],
      "execution_count": 0,
      "outputs": [
        {
          "output_type": "stream",
          "text": [
            "before set display.max_rows =  60\n",
            "after set display.max_rows =  80\n"
          ],
          "name": "stdout"
        }
      ]
    },
    {
      "cell_type": "code",
      "metadata": {
        "id": "oZzu_1vK16Jj",
        "colab_type": "code",
        "outputId": "8f9f7cd9-2982-4b5e-f77e-22373b084783",
        "colab": {
          "base_uri": "https://localhost:8080/",
          "height": 51
        }
      },
      "source": [
        "import pandas as pd\n",
        "\n",
        "print (\"before set display.max_columns = \", pd.get_option(\"display.max_columns\")) \n",
        "\n",
        "pd.set_option(\"display.max_columns\",32)\n",
        "print (\"after set display.max_columns = \", pd.get_option(\"display.max_columns\"))"
      ],
      "execution_count": 0,
      "outputs": [
        {
          "output_type": "stream",
          "text": [
            "before set display.max_columns =  0\n",
            "after set display.max_columns =  32\n"
          ],
          "name": "stdout"
        }
      ]
    },
    {
      "cell_type": "code",
      "metadata": {
        "id": "H_gYbUXE2vgp",
        "colab_type": "code",
        "outputId": "d8c97d0e-8ac0-4eb9-ebb7-3ce14c4978ae",
        "colab": {
          "base_uri": "https://localhost:8080/",
          "height": 34
        }
      },
      "source": [
        "import pandas as pd\n",
        "print (\"display.max_rows = \", pd.get_option(\"display.max_rows\"))"
      ],
      "execution_count": 0,
      "outputs": [
        {
          "output_type": "stream",
          "text": [
            "display.max_rows =  10\n"
          ],
          "name": "stdout"
        }
      ]
    },
    {
      "cell_type": "code",
      "metadata": {
        "id": "IVheKhVY3aUW",
        "colab_type": "code",
        "outputId": "e990f9e5-6dbf-4d3e-8c1d-eee3f364a122",
        "colab": {
          "base_uri": "https://localhost:8080/",
          "height": 34
        }
      },
      "source": [
        "import pandas as pd\n",
        "print (\"display.max_columns = \", pd.get_option(\"display.max_columns\"))"
      ],
      "execution_count": 0,
      "outputs": [
        {
          "output_type": "stream",
          "text": [
            "display.max_columns =  8\n"
          ],
          "name": "stdout"
        }
      ]
    },
    {
      "cell_type": "code",
      "metadata": {
        "id": "dPDB6ug93jnJ",
        "colab_type": "code",
        "outputId": "0dd00b2a-18d7-4ea2-abcb-6996e30d4248",
        "colab": {
          "base_uri": "https://localhost:8080/",
          "height": 221
        }
      },
      "source": [
        "import pandas as pd\n",
        "\n",
        "pd.describe_option(\"display.max_rows\")"
      ],
      "execution_count": 0,
      "outputs": [
        {
          "output_type": "stream",
          "text": [
            "display.max_rows : int\n",
            "    If max_rows is exceeded, switch to truncate view. Depending on\n",
            "    `large_repr`, objects are either centrally truncated or printed as\n",
            "    a summary view. 'None' value means unlimited.\n",
            "\n",
            "    In case python/IPython is running in a terminal and `large_repr`\n",
            "    equals 'truncate' this can be set to 0 and pandas will auto-detect\n",
            "    the height of the terminal and print a truncated object which fits\n",
            "    the screen height. The IPython notebook, IPython qtconsole, or\n",
            "    IDLE do not run in a terminal and hence it is not possible to do\n",
            "    correct auto-detection.\n",
            "    [default: 60] [currently: 80]\n"
          ],
          "name": "stdout"
        }
      ]
    },
    {
      "cell_type": "code",
      "metadata": {
        "id": "6o0UcFEr8eS2",
        "colab_type": "code",
        "outputId": "20a3cb4c-5698-4cb0-d1df-03f37ba1cf6c",
        "colab": {
          "base_uri": "https://localhost:8080/",
          "height": 51
        }
      },
      "source": [
        "import pandas as pd\n",
        "with pd.option_context(\"display.max_rows\",10):\n",
        "   print(pd.get_option(\"display.max_rows\"))\n",
        "   print(pd.get_option(\"display.max_rows\"))"
      ],
      "execution_count": 0,
      "outputs": [
        {
          "output_type": "stream",
          "text": [
            "10\n",
            "10\n"
          ],
          "name": "stdout"
        }
      ]
    },
    {
      "cell_type": "code",
      "metadata": {
        "id": "xS_cAVHL8yXP",
        "colab_type": "code",
        "colab": {}
      },
      "source": [
        "屬性值\n",
        "DateTime\n",
        "新的物件，具有與這個執行個體相同的日期，並將時間值設定為午夜 12:00:00 (00:00:00)。\n",
        "\n",
        "範例\n",
        "下列範例會使用 Date 屬性來解壓縮 DateTime 值的日期元件，並將其時間元件設定為零（或0:00:00 或午夜）。 它也會說明，根據顯示 DateTime 值時所使用的格式字串，時間元件可以繼續出現在格式化輸出中。\n",
        "\n",
        "備註\n",
        "傳回之 DateTime 值的 Kind 屬性值，與目前實例的值相同。\n",
        "因為 DateTime 類型代表單一類型中的日期和時間，所以請務必避免將 Date 屬性傳回的日期錯誤解譯為日期和時間。"
      ],
      "execution_count": 0,
      "outputs": []
    },
    {
      "cell_type": "code",
      "metadata": {
        "id": "I6e2lqBFJuso",
        "colab_type": "code",
        "colab": {
          "base_uri": "https://localhost:8080/",
          "height": 131
        },
        "outputId": "b7ec07a5-d0b8-497f-857e-8fd212ee9090"
      },
      "source": [
        "using System;\n",
        "\n",
        "public class Example\n",
        "{\n",
        "   public static void Main()\n",
        "   {\n",
        "      DateTime date1 = new DateTime(2008, 6, 1, 7, 47, 0);\n",
        "      Console.WriteLine(date1.ToString());\n",
        "      \n",
        "      // Get date-only portion of date, without its time.\n",
        "      DateTime dateOnly = date1.Date;\n",
        "      // Display date using short date string.\n",
        "      Console.WriteLine(dateOnly.ToString(\"d\"));\n",
        "      // Display date using 24-hour clock.\n",
        "      Console.WriteLine(dateOnly.ToString(\"g\"));\n",
        "      Console.WriteLine(dateOnly.ToString(\"MM/dd/yyyy HH:mm\"));   \n",
        "   }\n",
        "}\n",
        "// The example displays output like the following output:\n",
        "//       6/1/2008 7:47:00 AM\n",
        "//       6/1/2008\n",
        "//       6/1/2008 12:00 AM\n",
        "//       06/01/2008 00:00"
      ],
      "execution_count": 3,
      "outputs": [
        {
          "output_type": "error",
          "ename": "SyntaxError",
          "evalue": "ignored",
          "traceback": [
            "\u001b[0;36m  File \u001b[0;32m\"<ipython-input-3-d786a98a0646>\"\u001b[0;36m, line \u001b[0;32m1\u001b[0m\n\u001b[0;31m    using System;\u001b[0m\n\u001b[0m               ^\u001b[0m\n\u001b[0;31mSyntaxError\u001b[0m\u001b[0;31m:\u001b[0m invalid syntax\n"
          ]
        }
      ]
    },
    {
      "cell_type": "code",
      "metadata": {
        "id": "0HLKKw2-H6Qd",
        "colab_type": "code",
        "colab": {}
      },
      "source": [
        "資料視覺化(Matplotlib, Seaborn, Plotly)\n",
        "資料視覺化除了最後一步呈現你的成果之外，還可以在分析的過程中用資料視覺化來看出一些insight，\n",
        "比方說用熱點圖來看你的Deep learning的model是對圖片中哪一部分的看得較重要，\n",
        "或是可以降維之後將資料視覺化去看資料在空間中的分佈，來決定下一步的分析要怎麼做。\n",
        "\n",
        "Python資料視覺化主要有三大套件：\n",
        "Matplotlib\n",
        "Seaborn\n",
        "Plotly"
      ],
      "execution_count": 0,
      "outputs": []
    },
    {
      "cell_type": "code",
      "metadata": {
        "id": "txJYEZ7Gdq0E",
        "colab_type": "code",
        "outputId": "5c4802ec-da61-4965-fd13-1545d5ddcca5",
        "colab": {
          "base_uri": "https://localhost:8080/",
          "height": 102
        }
      },
      "source": [
        "# create a four item Series\n",
        "s = pd.Series([1, 2, 3, 4])\n",
        "s"
      ],
      "execution_count": 0,
      "outputs": [
        {
          "output_type": "execute_result",
          "data": {
            "text/plain": [
              "0    1\n",
              "1    2\n",
              "2    3\n",
              "3    4\n",
              "dtype: int64"
            ]
          },
          "metadata": {
            "tags": []
          },
          "execution_count": 4
        }
      ]
    },
    {
      "cell_type": "code",
      "metadata": {
        "id": "wh_UqqjRdvzn",
        "colab_type": "code",
        "outputId": "20cfcf04-0269-42e0-bcb6-d6fccd96fbb4",
        "colab": {
          "base_uri": "https://localhost:8080/",
          "height": 34
        }
      },
      "source": [
        "# get value at label 1\n",
        "s[1]"
      ],
      "execution_count": 0,
      "outputs": [
        {
          "output_type": "execute_result",
          "data": {
            "text/plain": [
              "2"
            ]
          },
          "metadata": {
            "tags": []
          },
          "execution_count": 5
        }
      ]
    },
    {
      "cell_type": "code",
      "metadata": {
        "id": "YcbQfGZtg7ZI",
        "colab_type": "code",
        "outputId": "6369797e-1f3a-4c71-fe9c-ca66a91e571b",
        "colab": {
          "base_uri": "https://localhost:8080/",
          "height": 68
        }
      },
      "source": [
        "# return a Series with the row with labels 1 and 3\n",
        "s[[1, 3]]"
      ],
      "execution_count": 0,
      "outputs": [
        {
          "output_type": "execute_result",
          "data": {
            "text/plain": [
              "1    2\n",
              "3    4\n",
              "dtype: int64"
            ]
          },
          "metadata": {
            "tags": []
          },
          "execution_count": 6
        }
      ]
    },
    {
      "cell_type": "code",
      "metadata": {
        "id": "cp_GxTFAutiB",
        "colab_type": "code",
        "outputId": "11f0eaa2-feff-4c68-e923-9447bb8c2a3e",
        "colab": {
          "base_uri": "https://localhost:8080/",
          "height": 204
        }
      },
      "source": [
        "!wget https://raw.githubusercontent.com/PacktPublishing/Learning-Pandas-Second-Edition/master/data/goog.csv"
      ],
      "execution_count": 0,
      "outputs": [
        {
          "output_type": "stream",
          "text": [
            "--2020-03-12 07:56:08--  https://raw.githubusercontent.com/PacktPublishing/Learning-Pandas-Second-Edition/master/data/goog.csv\n",
            "Resolving raw.githubusercontent.com (raw.githubusercontent.com)... 151.101.0.133, 151.101.64.133, 151.101.128.133, ...\n",
            "Connecting to raw.githubusercontent.com (raw.githubusercontent.com)|151.101.0.133|:443... connected.\n",
            "HTTP request sent, awaiting response... 200 OK\n",
            "Length: 3602 (3.5K) [text/plain]\n",
            "Saving to: ‘goog.csv’\n",
            "\n",
            "\rgoog.csv              0%[                    ]       0  --.-KB/s               \rgoog.csv            100%[===================>]   3.52K  --.-KB/s    in 0s      \n",
            "\n",
            "2020-03-12 07:56:08 (98.5 MB/s) - ‘goog.csv’ saved [3602/3602]\n",
            "\n"
          ],
          "name": "stdout"
        }
      ]
    },
    {
      "cell_type": "code",
      "metadata": {
        "id": "Lv4F-_jRvVhx",
        "colab_type": "code",
        "outputId": "922ccc52-237f-4c4f-b1c8-39f6acbda661",
        "colab": {
          "base_uri": "https://localhost:8080/",
          "height": 34
        }
      },
      "source": [
        "!ls"
      ],
      "execution_count": 0,
      "outputs": [
        {
          "output_type": "stream",
          "text": [
            "goog.csv  sample_data\n"
          ],
          "name": "stdout"
        }
      ]
    },
    {
      "cell_type": "code",
      "metadata": {
        "id": "ckREPKXNvZdU",
        "colab_type": "code",
        "outputId": "8cf98d42-863a-4505-cd1b-b44ea101b8c2",
        "colab": {
          "base_uri": "https://localhost:8080/",
          "height": 255
        }
      },
      "source": [
        "# read the contents of the file into a DataFrame\n",
        "df = pd.read_csv('goog.csv')\n",
        "df"
      ],
      "execution_count": 0,
      "outputs": [
        {
          "output_type": "execute_result",
          "data": {
            "text/plain": [
              "          Date        Open        High         Low       Close   Volume\n",
              "0   12/19/2016  790.219971  797.659973  786.270020  794.200012  1225900\n",
              "1   12/20/2016  796.760010  798.650024  793.270020  796.419983   925100\n",
              "2   12/21/2016  795.840027  796.676025  787.099976  794.559998  1208700\n",
              "3   12/22/2016  792.359985  793.320007  788.580017  791.260010   969100\n",
              "4   12/23/2016  790.900024  792.739990  787.280029  789.909973   623400\n",
              "..         ...         ...         ...         ...         ...      ...\n",
              "56   3/13/2017  844.000000  848.684998  843.250000  845.539978  1149500\n",
              "57   3/14/2017  843.640015  847.239990  840.799988  845.619995   779900\n",
              "58   3/15/2017  847.590027  848.630005  840.770020  847.200012  1379600\n",
              "59   3/16/2017  849.030029  850.849976  846.130005  848.780029   970400\n",
              "60   3/17/2017  851.609985  853.400024  847.109985  852.119995  1712300\n",
              "\n",
              "[61 rows x 6 columns]"
            ]
          },
          "metadata": {
            "tags": []
          },
          "execution_count": 10
        }
      ]
    }
  ]
}

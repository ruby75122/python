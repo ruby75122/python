{
  "nbformat": 4,
  "nbformat_minor": 0,
  "metadata": {
    "colab": {
      "name": "20200312-1.ipynb",
      "provenance": [],
      "authorship_tag": "ABX9TyP71mGZQxkMkC48nLu62QP7",
      "include_colab_link": true
    },
    "kernelspec": {
      "name": "python3",
      "display_name": "Python 3"
    }
  },
  "cells": [
    {
      "cell_type": "markdown",
      "metadata": {
        "id": "view-in-github",
        "colab_type": "text"
      },
      "source": [
        "<a href=\"https://colab.research.google.com/github/ruby75122/python/blob/master/20200312_1.ipynb\" target=\"_parent\"><img src=\"https://colab.research.google.com/assets/colab-badge.svg\" alt=\"Open In Colab\"/></a>"
      ]
    },
    {
      "cell_type": "code",
      "metadata": {
        "id": "sKVwl2XETHd2",
        "colab_type": "code",
        "colab": {}
      },
      "source": [
        "# import numpy and pandas\n",
        "import numpy as np\n",
        "import pandas as pd\n",
        "\n",
        "# used for dates\n",
        "import datetime\n",
        "from datetime import datetime, date\n",
        "\n",
        "# Set some pandas options controlling output format\n",
        "pd.set_option('display.notebook_repr_html', False)\n",
        "pd.set_option('display.max_columns', 8)\n",
        "pd.set_option('display.max_rows', 10)\n",
        "pd.set_option('display.width', 80)\n",
        "\n",
        "# bring in matplotlib for graphics\n",
        "import matplotlib.pyplot as plt\n",
        "%matplotlib inline"
      ],
      "execution_count": 0,
      "outputs": []
    }
  ]
}
{
  "nbformat": 4,
  "nbformat_minor": 0,
  "metadata": {
    "colab": {
      "name": "20200312 02_Up and Running with pandas.ipynb",
      "provenance": [],
      "collapsed_sections": [],
      "authorship_tag": "ABX9TyO2gmssHlCpqzpGdw3Fsqe2",
      "include_colab_link": true
    },
    "kernelspec": {
      "name": "python3",
      "display_name": "Python 3"
    }
  },
  "cells": [
    {
      "cell_type": "markdown",
      "metadata": {
        "id": "view-in-github",
        "colab_type": "text"
      },
      "source": [
        "<a href=\"https://colab.research.google.com/github/ruby75122/python/blob/master/20200312_02_Up_and_Running_with_pandas.ipynb\" target=\"_parent\"><img src=\"https://colab.research.google.com/assets/colab-badge.svg\" alt=\"Open In Colab\"/></a>"
      ]
    },
    {
      "cell_type": "code",
      "metadata": {
        "id": "SLEhUPcXsX4G",
        "colab_type": "code",
        "colab": {}
      },
      "source": [
        "3.1設定pandas"
      ],
      "execution_count": 0,
      "outputs": []
    },
    {
      "cell_type": "code",
      "metadata": {
        "id": "sKVwl2XETHd2",
        "colab_type": "code",
        "colab": {}
      },
      "source": [
        "# import numpy and pandas\n",
        "import numpy as np\n",
        "import pandas as pd\n",
        "\n",
        "# used for dates\n",
        "import datetime\n",
        "from datetime import datetime, date\n",
        "\n",
        "# Set some pandas options controlling output format\n",
        "pd.set_option('display.notebook_repr_html', False)\n",
        "pd.set_option('display.max_columns', 8)\n",
        "pd.set_option('display.max_rows', 10)\n",
        "pd.set_option('display.width', 80)\n",
        "\n",
        "# bring in matplotlib for graphics\n",
        "import matplotlib.pyplot as plt\n",
        "%matplotlib inline #魔術方法"
      ],
      "execution_count": 0,
      "outputs": []
    },
    {
      "cell_type": "code",
      "metadata": {
        "id": "_KT_UKy8twkg",
        "colab_type": "code",
        "colab": {}
      },
      "source": [
        "https://www.yiibai.com/pandas/python_pandas_options_and_customization.html\n",
        "set_option(param,value)set_option需要两个参数，并将该值设置为指定的参数值，如下所示：\n",
        "display.max_rows\n",
        "使用set_option()，可以更改要显示的默认行数。\n",
        "import pandas as pd\n",
        "\n",
        "print (\"before set display.max_rows = \", pd.get_option(\"display.max_rows\")) \n",
        "\n",
        "pd.set_option(\"display.max_rows\",80)\n",
        "print (\"after set display.max_rows = \", pd.get_option(\"display.max_rows\"))\n",
        "Python\n",
        "执行上面示例代码，得到以下结果 - \n",
        "before set display.max_rows =  60\n",
        "after set display.max_rows =  80\n",
        "Shell\n",
        "display.max_columns\n",
        "使用set_option()，可以更改要显示的默认行数。\n",
        "import pandas as pd\n",
        "\n",
        "print (\"before set display.max_columns = \", pd.get_option(\"display.max_columns\")) \n",
        "\n",
        "pd.set_option(\"display.max_columns\",32)\n",
        "print (\"after set display.max_columns = \", pd.get_option(\"display.max_columns\"))\n",
        "Python\n",
        "执行上面示例代码，得到以下结果 - \n",
        "before set display.max_columns =  20\n",
        "after set display.max_columns =  32//原文出自【易百教程】，商业转载请联系作者获得授权，非商业请保留原文链接：https://www.yiibai.com/pandas/python_pandas_options_and_customization.html\n",
        "\n"
      ],
      "execution_count": 0,
      "outputs": []
    },
    {
      "cell_type": "code",
      "metadata": {
        "id": "txJYEZ7Gdq0E",
        "colab_type": "code",
        "colab": {
          "base_uri": "https://localhost:8080/",
          "height": 102
        },
        "outputId": "5c4802ec-da61-4965-fd13-1545d5ddcca5"
      },
      "source": [
        "# create a four item Series\n",
        "s = pd.Series([1, 2, 3, 4])\n",
        "s"
      ],
      "execution_count": 4,
      "outputs": [
        {
          "output_type": "execute_result",
          "data": {
            "text/plain": [
              "0    1\n",
              "1    2\n",
              "2    3\n",
              "3    4\n",
              "dtype: int64"
            ]
          },
          "metadata": {
            "tags": []
          },
          "execution_count": 4
        }
      ]
    },
    {
      "cell_type": "code",
      "metadata": {
        "id": "wh_UqqjRdvzn",
        "colab_type": "code",
        "colab": {
          "base_uri": "https://localhost:8080/",
          "height": 34
        },
        "outputId": "20cfcf04-0269-42e0-bcb6-d6fccd96fbb4"
      },
      "source": [
        "# get value at label 1\n",
        "s[1]"
      ],
      "execution_count": 5,
      "outputs": [
        {
          "output_type": "execute_result",
          "data": {
            "text/plain": [
              "2"
            ]
          },
          "metadata": {
            "tags": []
          },
          "execution_count": 5
        }
      ]
    },
    {
      "cell_type": "code",
      "metadata": {
        "id": "YcbQfGZtg7ZI",
        "colab_type": "code",
        "colab": {
          "base_uri": "https://localhost:8080/",
          "height": 68
        },
        "outputId": "6369797e-1f3a-4c71-fe9c-ca66a91e571b"
      },
      "source": [
        "# return a Series with the row with labels 1 and 3\n",
        "s[[1, 3]]"
      ],
      "execution_count": 6,
      "outputs": [
        {
          "output_type": "execute_result",
          "data": {
            "text/plain": [
              "1    2\n",
              "3    4\n",
              "dtype: int64"
            ]
          },
          "metadata": {
            "tags": []
          },
          "execution_count": 6
        }
      ]
    },
    {
      "cell_type": "code",
      "metadata": {
        "id": "cp_GxTFAutiB",
        "colab_type": "code",
        "colab": {
          "base_uri": "https://localhost:8080/",
          "height": 204
        },
        "outputId": "11f0eaa2-feff-4c68-e923-9447bb8c2a3e"
      },
      "source": [
        "!wget https://raw.githubusercontent.com/PacktPublishing/Learning-Pandas-Second-Edition/master/data/goog.csv"
      ],
      "execution_count": 8,
      "outputs": [
        {
          "output_type": "stream",
          "text": [
            "--2020-03-12 07:56:08--  https://raw.githubusercontent.com/PacktPublishing/Learning-Pandas-Second-Edition/master/data/goog.csv\n",
            "Resolving raw.githubusercontent.com (raw.githubusercontent.com)... 151.101.0.133, 151.101.64.133, 151.101.128.133, ...\n",
            "Connecting to raw.githubusercontent.com (raw.githubusercontent.com)|151.101.0.133|:443... connected.\n",
            "HTTP request sent, awaiting response... 200 OK\n",
            "Length: 3602 (3.5K) [text/plain]\n",
            "Saving to: ‘goog.csv’\n",
            "\n",
            "\rgoog.csv              0%[                    ]       0  --.-KB/s               \rgoog.csv            100%[===================>]   3.52K  --.-KB/s    in 0s      \n",
            "\n",
            "2020-03-12 07:56:08 (98.5 MB/s) - ‘goog.csv’ saved [3602/3602]\n",
            "\n"
          ],
          "name": "stdout"
        }
      ]
    },
    {
      "cell_type": "code",
      "metadata": {
        "id": "Lv4F-_jRvVhx",
        "colab_type": "code",
        "colab": {
          "base_uri": "https://localhost:8080/",
          "height": 34
        },
        "outputId": "922ccc52-237f-4c4f-b1c8-39f6acbda661"
      },
      "source": [
        "!ls"
      ],
      "execution_count": 9,
      "outputs": [
        {
          "output_type": "stream",
          "text": [
            "goog.csv  sample_data\n"
          ],
          "name": "stdout"
        }
      ]
    },
    {
      "cell_type": "code",
      "metadata": {
        "id": "ckREPKXNvZdU",
        "colab_type": "code",
        "colab": {
          "base_uri": "https://localhost:8080/",
          "height": 255
        },
        "outputId": "8cf98d42-863a-4505-cd1b-b44ea101b8c2"
      },
      "source": [
        "# read the contents of the file into a DataFrame\n",
        "df = pd.read_csv('goog.csv')\n",
        "df"
      ],
      "execution_count": 10,
      "outputs": [
        {
          "output_type": "execute_result",
          "data": {
            "text/plain": [
              "          Date        Open        High         Low       Close   Volume\n",
              "0   12/19/2016  790.219971  797.659973  786.270020  794.200012  1225900\n",
              "1   12/20/2016  796.760010  798.650024  793.270020  796.419983   925100\n",
              "2   12/21/2016  795.840027  796.676025  787.099976  794.559998  1208700\n",
              "3   12/22/2016  792.359985  793.320007  788.580017  791.260010   969100\n",
              "4   12/23/2016  790.900024  792.739990  787.280029  789.909973   623400\n",
              "..         ...         ...         ...         ...         ...      ...\n",
              "56   3/13/2017  844.000000  848.684998  843.250000  845.539978  1149500\n",
              "57   3/14/2017  843.640015  847.239990  840.799988  845.619995   779900\n",
              "58   3/15/2017  847.590027  848.630005  840.770020  847.200012  1379600\n",
              "59   3/16/2017  849.030029  850.849976  846.130005  848.780029   970400\n",
              "60   3/17/2017  851.609985  853.400024  847.109985  852.119995  1712300\n",
              "\n",
              "[61 rows x 6 columns]"
            ]
          },
          "metadata": {
            "tags": []
          },
          "execution_count": 10
        }
      ]
    }
  ]
}
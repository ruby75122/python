{
  "nbformat": 4,
  "nbformat_minor": 0,
  "metadata": {
    "colab": {
      "name": "20200305-5.ipynb",
      "provenance": [],
      "authorship_tag": "ABX9TyOQHsTznPim2YctaByIRndO",
      "include_colab_link": true
    },
    "kernelspec": {
      "name": "python3",
      "display_name": "Python 3"
    }
  },
  "cells": [
    {
      "cell_type": "markdown",
      "metadata": {
        "id": "view-in-github",
        "colab_type": "text"
      },
      "source": [
        "<a href=\"https://colab.research.google.com/github/ruby75122/python/blob/master/20200305_5.ipynb\" target=\"_parent\"><img src=\"https://colab.research.google.com/assets/colab-badge.svg\" alt=\"Open In Colab\"/></a>"
      ]
    },
    {
      "cell_type": "code",
      "metadata": {
        "id": "MVIwhlAAhvoV",
        "colab_type": "code",
        "colab": {
          "base_uri": "https://localhost:8080/",
          "height": 51
        },
        "outputId": "aa0e0cba-f1ab-4572-b1f4-1c2d55253e84"
      },
      "source": [
        "#!/usr/bin/python\n",
        " \n",
        "dict = {'Name': 'Zara', 'Age': 7, 'Class': 'First'}\n",
        " \n",
        "print(\"dict['Name']: \", dict['Name'])\n",
        "print(\"dict['Age']: \", dict['Age'])"
      ],
      "execution_count": 1,
      "outputs": [
        {
          "output_type": "stream",
          "text": [
            "dict['Name']:  Zara\n",
            "dict['Age']:  7\n"
          ],
          "name": "stdout"
        }
      ]
    },
    {
      "cell_type": "code",
      "metadata": {
        "id": "5Hr2rzYFixvN",
        "colab_type": "code",
        "colab": {
          "base_uri": "https://localhost:8080/",
          "height": 182
        },
        "outputId": "0f8092c0-88a0-4f86-b20b-a5e01a3c92a9"
      },
      "source": [
        "dict_1 = dict({\"a\":1234,\"b\":2345,\"c\":3456})\n",
        "dict_1"
      ],
      "execution_count": 2,
      "outputs": [
        {
          "output_type": "error",
          "ename": "TypeError",
          "evalue": "ignored",
          "traceback": [
            "\u001b[0;31m---------------------------------------------------------------------------\u001b[0m",
            "\u001b[0;31mTypeError\u001b[0m                                 Traceback (most recent call last)",
            "\u001b[0;32m<ipython-input-2-5be013003eae>\u001b[0m in \u001b[0;36m<module>\u001b[0;34m()\u001b[0m\n\u001b[0;32m----> 1\u001b[0;31m \u001b[0mdict_1\u001b[0m \u001b[0;34m=\u001b[0m \u001b[0mdict\u001b[0m\u001b[0;34m(\u001b[0m\u001b[0;34m{\u001b[0m\u001b[0;34m\"a\"\u001b[0m\u001b[0;34m:\u001b[0m\u001b[0;36m1234\u001b[0m\u001b[0;34m,\u001b[0m\u001b[0;34m\"b\"\u001b[0m\u001b[0;34m:\u001b[0m\u001b[0;36m2345\u001b[0m\u001b[0;34m,\u001b[0m\u001b[0;34m\"c\"\u001b[0m\u001b[0;34m:\u001b[0m\u001b[0;36m3456\u001b[0m\u001b[0;34m}\u001b[0m\u001b[0;34m)\u001b[0m\u001b[0;34m\u001b[0m\u001b[0;34m\u001b[0m\u001b[0m\n\u001b[0m\u001b[1;32m      2\u001b[0m \u001b[0mdict_1\u001b[0m\u001b[0;34m\u001b[0m\u001b[0;34m\u001b[0m\u001b[0m\n",
            "\u001b[0;31mTypeError\u001b[0m: 'dict' object is not callable"
          ]
        }
      ]
    },
    {
      "cell_type": "code",
      "metadata": {
        "id": "ltH3Ie4hi2G1",
        "colab_type": "code",
        "colab": {
          "base_uri": "https://localhost:8080/",
          "height": 182
        },
        "outputId": "371a4640-9dca-426a-c03f-e58d28b2fc36"
      },
      "source": [
        "dict_2 = dict(a=1234,b=2345,c=3456)\n",
        "dict_2"
      ],
      "execution_count": 3,
      "outputs": [
        {
          "output_type": "error",
          "ename": "TypeError",
          "evalue": "ignored",
          "traceback": [
            "\u001b[0;31m---------------------------------------------------------------------------\u001b[0m",
            "\u001b[0;31mTypeError\u001b[0m                                 Traceback (most recent call last)",
            "\u001b[0;32m<ipython-input-3-8225c4ecd576>\u001b[0m in \u001b[0;36m<module>\u001b[0;34m()\u001b[0m\n\u001b[0;32m----> 1\u001b[0;31m \u001b[0mdict_2\u001b[0m \u001b[0;34m=\u001b[0m \u001b[0mdict\u001b[0m\u001b[0;34m(\u001b[0m\u001b[0ma\u001b[0m\u001b[0;34m=\u001b[0m\u001b[0;36m1234\u001b[0m\u001b[0;34m,\u001b[0m\u001b[0mb\u001b[0m\u001b[0;34m=\u001b[0m\u001b[0;36m2345\u001b[0m\u001b[0;34m,\u001b[0m\u001b[0mc\u001b[0m\u001b[0;34m=\u001b[0m\u001b[0;36m3456\u001b[0m\u001b[0;34m)\u001b[0m\u001b[0;34m\u001b[0m\u001b[0;34m\u001b[0m\u001b[0m\n\u001b[0m\u001b[1;32m      2\u001b[0m \u001b[0mdict_2\u001b[0m\u001b[0;34m\u001b[0m\u001b[0;34m\u001b[0m\u001b[0m\n",
            "\u001b[0;31mTypeError\u001b[0m: 'dict' object is not callable"
          ]
        }
      ]
    },
    {
      "cell_type": "code",
      "metadata": {
        "id": "JEOmQveYi466",
        "colab_type": "code",
        "colab": {
          "base_uri": "https://localhost:8080/",
          "height": 34
        },
        "outputId": "a5686905-1d58-4d14-8e28-a833b9f936dc"
      },
      "source": [
        "dict_3 = {\"a\":1234,\"b\":2345,\"c\":3456}\n",
        "dict_3"
      ],
      "execution_count": 4,
      "outputs": [
        {
          "output_type": "execute_result",
          "data": {
            "text/plain": [
              "{'a': 1234, 'b': 2345, 'c': 3456}"
            ]
          },
          "metadata": {
            "tags": []
          },
          "execution_count": 4
        }
      ]
    },
    {
      "cell_type": "code",
      "metadata": {
        "id": "Lcj6kGa4jHdj",
        "colab_type": "code",
        "colab": {
          "base_uri": "https://localhost:8080/",
          "height": 131
        },
        "outputId": "f828da2e-ea19-4dac-c02f-0f8cede96e13"
      },
      "source": [
        "dict_wrong = dict{\"a\":1234,\"b\":2345,\"c\":3456}\n",
        "dict_wrong"
      ],
      "execution_count": 5,
      "outputs": [
        {
          "output_type": "error",
          "ename": "SyntaxError",
          "evalue": "ignored",
          "traceback": [
            "\u001b[0;36m  File \u001b[0;32m\"<ipython-input-5-729945c25fa8>\"\u001b[0;36m, line \u001b[0;32m1\u001b[0m\n\u001b[0;31m    dict_wrong = dict{\"a\":1234,\"b\":2345,\"c\":3456}\u001b[0m\n\u001b[0m                     ^\u001b[0m\n\u001b[0;31mSyntaxError\u001b[0m\u001b[0;31m:\u001b[0m invalid syntax\n"
          ]
        }
      ]
    },
    {
      "cell_type": "code",
      "metadata": {
        "id": "dL9dXzgsjK16",
        "colab_type": "code",
        "colab": {
          "base_uri": "https://localhost:8080/",
          "height": 199
        },
        "outputId": "4178dce9-906d-476b-978a-fa1b0657257c"
      },
      "source": [
        "dict_1[\"a\"]\n",
        "#dict_2[\"b\"]\n",
        "#dict_3[\"c\"]"
      ],
      "execution_count": 6,
      "outputs": [
        {
          "output_type": "error",
          "ename": "NameError",
          "evalue": "ignored",
          "traceback": [
            "\u001b[0;31m---------------------------------------------------------------------------\u001b[0m",
            "\u001b[0;31mNameError\u001b[0m                                 Traceback (most recent call last)",
            "\u001b[0;32m<ipython-input-6-f1d43816867d>\u001b[0m in \u001b[0;36m<module>\u001b[0;34m()\u001b[0m\n\u001b[0;32m----> 1\u001b[0;31m \u001b[0mdict_1\u001b[0m\u001b[0;34m[\u001b[0m\u001b[0;34m\"a\"\u001b[0m\u001b[0;34m]\u001b[0m\u001b[0;34m\u001b[0m\u001b[0;34m\u001b[0m\u001b[0m\n\u001b[0m\u001b[1;32m      2\u001b[0m \u001b[0;31m#dict_2[\"b\"]\u001b[0m\u001b[0;34m\u001b[0m\u001b[0;34m\u001b[0m\u001b[0;34m\u001b[0m\u001b[0m\n\u001b[1;32m      3\u001b[0m \u001b[0;31m#dict_3[\"c\"]\u001b[0m\u001b[0;34m\u001b[0m\u001b[0;34m\u001b[0m\u001b[0;34m\u001b[0m\u001b[0m\n",
            "\u001b[0;31mNameError\u001b[0m: name 'dict_1' is not defined"
          ]
        }
      ]
    },
    {
      "cell_type": "code",
      "metadata": {
        "id": "svE5gQvmjP-s",
        "colab_type": "code",
        "colab": {
          "base_uri": "https://localhost:8080/",
          "height": 182
        },
        "outputId": "4fd134ae-f595-4645-cfac-d41f652b1729"
      },
      "source": [
        "dict_1[\"d\"]=4567\n",
        "dict_1"
      ],
      "execution_count": 7,
      "outputs": [
        {
          "output_type": "error",
          "ename": "NameError",
          "evalue": "ignored",
          "traceback": [
            "\u001b[0;31m---------------------------------------------------------------------------\u001b[0m",
            "\u001b[0;31mNameError\u001b[0m                                 Traceback (most recent call last)",
            "\u001b[0;32m<ipython-input-7-e6586ee8573a>\u001b[0m in \u001b[0;36m<module>\u001b[0;34m()\u001b[0m\n\u001b[0;32m----> 1\u001b[0;31m \u001b[0mdict_1\u001b[0m\u001b[0;34m[\u001b[0m\u001b[0;34m\"d\"\u001b[0m\u001b[0;34m]\u001b[0m\u001b[0;34m=\u001b[0m\u001b[0;36m4567\u001b[0m\u001b[0;34m\u001b[0m\u001b[0;34m\u001b[0m\u001b[0m\n\u001b[0m\u001b[1;32m      2\u001b[0m \u001b[0mdict_1\u001b[0m\u001b[0;34m\u001b[0m\u001b[0;34m\u001b[0m\u001b[0m\n",
            "\u001b[0;31mNameError\u001b[0m: name 'dict_1' is not defined"
          ]
        }
      ]
    },
    {
      "cell_type": "code",
      "metadata": {
        "id": "o_6dPwvGjTqR",
        "colab_type": "code",
        "colab": {
          "base_uri": "https://localhost:8080/",
          "height": 34
        },
        "outputId": "1900845c-1025-4749-f33c-95bec8014e4e"
      },
      "source": [
        "data={\"A\":\"123\",\"B\":\"456\"}\n",
        "data.setdefault('C','789')\n",
        "print(data)"
      ],
      "execution_count": 8,
      "outputs": [
        {
          "output_type": "stream",
          "text": [
            "{'A': '123', 'B': '456', 'C': '789'}\n"
          ],
          "name": "stdout"
        }
      ]
    },
    {
      "cell_type": "code",
      "metadata": {
        "id": "le8_Aljwjilh",
        "colab_type": "code",
        "colab": {
          "base_uri": "https://localhost:8080/",
          "height": 34
        },
        "outputId": "92db9521-e0db-4968-ab88-b868d080151b"
      },
      "source": [
        "data={\"A\":\"123\",\"B\":\"456\"}\n",
        "dic2={\"C\":\"987\"}\n",
        "data.update(dic2)\n",
        "print(data)"
      ],
      "execution_count": 9,
      "outputs": [
        {
          "output_type": "stream",
          "text": [
            "{'A': '123', 'B': '456', 'C': '987'}\n"
          ],
          "name": "stdout"
        }
      ]
    },
    {
      "cell_type": "code",
      "metadata": {
        "id": "WwQJ2p44jv5B",
        "colab_type": "code",
        "colab": {
          "base_uri": "https://localhost:8080/",
          "height": 34
        },
        "outputId": "ac47499f-8759-4df6-9b09-ce747e756bb6"
      },
      "source": [
        "data={\"A\":\"123\",\"B\":\"456\"}\n",
        "data['A']=\"666\"\n",
        "print(data)"
      ],
      "execution_count": 10,
      "outputs": [
        {
          "output_type": "stream",
          "text": [
            "{'A': '666', 'B': '456'}\n"
          ],
          "name": "stdout"
        }
      ]
    },
    {
      "cell_type": "code",
      "metadata": {
        "id": "2GPm0hKjjzyp",
        "colab_type": "code",
        "colab": {
          "base_uri": "https://localhost:8080/",
          "height": 182
        },
        "outputId": "f05aab19-6e5f-444f-87f8-5c99b71413bd"
      },
      "source": [
        "#刪除\n",
        "del dict_1[\"d\"]\n",
        "dict_1"
      ],
      "execution_count": 13,
      "outputs": [
        {
          "output_type": "error",
          "ename": "NameError",
          "evalue": "ignored",
          "traceback": [
            "\u001b[0;31m---------------------------------------------------------------------------\u001b[0m",
            "\u001b[0;31mNameError\u001b[0m                                 Traceback (most recent call last)",
            "\u001b[0;32m<ipython-input-13-2c55513263cc>\u001b[0m in \u001b[0;36m<module>\u001b[0;34m()\u001b[0m\n\u001b[0;32m----> 1\u001b[0;31m \u001b[0;32mdel\u001b[0m \u001b[0mdict_1\u001b[0m\u001b[0;34m[\u001b[0m\u001b[0;34m\"d\"\u001b[0m\u001b[0;34m]\u001b[0m\u001b[0;34m\u001b[0m\u001b[0;34m\u001b[0m\u001b[0m\n\u001b[0m\u001b[1;32m      2\u001b[0m \u001b[0mdict_1\u001b[0m\u001b[0;34m\u001b[0m\u001b[0;34m\u001b[0m\u001b[0m\n",
            "\u001b[0;31mNameError\u001b[0m: name 'dict_1' is not defined"
          ]
        }
      ]
    },
    {
      "cell_type": "code",
      "metadata": {
        "id": "p7NysHp2kBMt",
        "colab_type": "code",
        "colab": {
          "base_uri": "https://localhost:8080/",
          "height": 34
        },
        "outputId": "9494fac2-9f57-4e54-d47c-191adfc1936b"
      },
      "source": [
        "# 清除字典內的鍵keys值values\n",
        "data.clear()\n",
        "print(data)"
      ],
      "execution_count": 14,
      "outputs": [
        {
          "output_type": "stream",
          "text": [
            "{}\n"
          ],
          "name": "stdout"
        }
      ]
    },
    {
      "cell_type": "code",
      "metadata": {
        "id": "o0mPYA5DkFr-",
        "colab_type": "code",
        "colab": {
          "base_uri": "https://localhost:8080/",
          "height": 34
        },
        "outputId": "f04b425e-a696-46cc-8db6-82fcfcaf8506"
      },
      "source": [
        "# 複製字典的內容到另一字典\n",
        "data={\"A\":\"123\",\"B\":\"456\"}\n",
        "data2=data.copy()\n",
        "data2\n",
        "#print(data2)"
      ],
      "execution_count": 15,
      "outputs": [
        {
          "output_type": "execute_result",
          "data": {
            "text/plain": [
              "{'A': '123', 'B': '456'}"
            ]
          },
          "metadata": {
            "tags": []
          },
          "execution_count": 15
        }
      ]
    },
    {
      "cell_type": "code",
      "metadata": {
        "id": "4zIx_EGSkSTp",
        "colab_type": "code",
        "colab": {
          "base_uri": "https://localhost:8080/",
          "height": 221
        },
        "outputId": "3ffb3a31-29ec-403c-d99d-faf43c91693f"
      },
      "source": [
        "d = {'a': 91, 'b': 72, 'c': 83} \n",
        "\n",
        "for key in d:\n",
        "  print(key)\n",
        "\n",
        "for k in d.keys():\n",
        "    print(k)\n",
        "    \n",
        "for v in d.values():\n",
        "    print(v)\n",
        "    \n",
        "for k, v in d.items():\n",
        "  print(k, v)"
      ],
      "execution_count": 16,
      "outputs": [
        {
          "output_type": "stream",
          "text": [
            "a\n",
            "b\n",
            "c\n",
            "a\n",
            "b\n",
            "c\n",
            "91\n",
            "72\n",
            "83\n",
            "a 91\n",
            "b 72\n",
            "c 83\n"
          ],
          "name": "stdout"
        }
      ]
    },
    {
      "cell_type": "code",
      "metadata": {
        "id": "YAHorJK1kc6t",
        "colab_type": "code",
        "colab": {
          "base_uri": "https://localhost:8080/",
          "height": 34
        },
        "outputId": "9b593a80-9977-4840-d14f-14666b964e25"
      },
      "source": [
        "romanD = { \"I\":1,\"II\":2,\"III\":3,\"IV\":4,\"V\":5,\"VI\":6,\"VII\":7,\"VIII\":8,\"IX\":9 } \n",
        "romankeyList = [] \n",
        "romanvalueList = [] \n",
        "\n",
        "for key, value in romanD.items(): \n",
        "    romankeyList.append(key) \n",
        "    romanvalueList.append(value) \n",
        "\n",
        "#romankeyList\n",
        "romanvalueList"
      ],
      "execution_count": 17,
      "outputs": [
        {
          "output_type": "execute_result",
          "data": {
            "text/plain": [
              "[1, 2, 3, 4, 5, 6, 7, 8, 9]"
            ]
          },
          "metadata": {
            "tags": []
          },
          "execution_count": 17
        }
      ]
    },
    {
      "cell_type": "code",
      "metadata": {
        "id": "l31ZvN2Xk3bH",
        "colab_type": "code",
        "colab": {
          "base_uri": "https://localhost:8080/",
          "height": 182
        },
        "outputId": "1878f826-f734-4c26-eb6a-9bf409ab507b"
      },
      "source": [
        "romanD1 = dict(zip(romankeyList, romanvalueList))\n",
        "romanD1"
      ],
      "execution_count": 18,
      "outputs": [
        {
          "output_type": "error",
          "ename": "TypeError",
          "evalue": "ignored",
          "traceback": [
            "\u001b[0;31m---------------------------------------------------------------------------\u001b[0m",
            "\u001b[0;31mTypeError\u001b[0m                                 Traceback (most recent call last)",
            "\u001b[0;32m<ipython-input-18-98f4aa249032>\u001b[0m in \u001b[0;36m<module>\u001b[0;34m()\u001b[0m\n\u001b[0;32m----> 1\u001b[0;31m \u001b[0mromanD1\u001b[0m \u001b[0;34m=\u001b[0m \u001b[0mdict\u001b[0m\u001b[0;34m(\u001b[0m\u001b[0mzip\u001b[0m\u001b[0;34m(\u001b[0m\u001b[0mromankeyList\u001b[0m\u001b[0;34m,\u001b[0m \u001b[0mromanvalueList\u001b[0m\u001b[0;34m)\u001b[0m\u001b[0;34m)\u001b[0m\u001b[0;34m\u001b[0m\u001b[0;34m\u001b[0m\u001b[0m\n\u001b[0m\u001b[1;32m      2\u001b[0m \u001b[0mromanD1\u001b[0m\u001b[0;34m\u001b[0m\u001b[0;34m\u001b[0m\u001b[0m\n",
            "\u001b[0;31mTypeError\u001b[0m: 'dict' object is not callable"
          ]
        }
      ]
    },
    {
      "cell_type": "code",
      "metadata": {
        "id": "Z29EmQ3Lk_GT",
        "colab_type": "code",
        "colab": {
          "base_uri": "https://localhost:8080/",
          "height": 182
        },
        "outputId": "181e6b42-9981-48a4-d2ad-7ad57afc4ca8"
      },
      "source": [
        "romanD1 = dict(zip(romanvalueList, romankeyList))\n",
        "romanD1"
      ],
      "execution_count": 19,
      "outputs": [
        {
          "output_type": "error",
          "ename": "TypeError",
          "evalue": "ignored",
          "traceback": [
            "\u001b[0;31m---------------------------------------------------------------------------\u001b[0m",
            "\u001b[0;31mTypeError\u001b[0m                                 Traceback (most recent call last)",
            "\u001b[0;32m<ipython-input-19-8d5c04e7ce09>\u001b[0m in \u001b[0;36m<module>\u001b[0;34m()\u001b[0m\n\u001b[0;32m----> 1\u001b[0;31m \u001b[0mromanD1\u001b[0m \u001b[0;34m=\u001b[0m \u001b[0mdict\u001b[0m\u001b[0;34m(\u001b[0m\u001b[0mzip\u001b[0m\u001b[0;34m(\u001b[0m\u001b[0mromanvalueList\u001b[0m\u001b[0;34m,\u001b[0m \u001b[0mromankeyList\u001b[0m\u001b[0;34m)\u001b[0m\u001b[0;34m)\u001b[0m\u001b[0;34m\u001b[0m\u001b[0;34m\u001b[0m\u001b[0m\n\u001b[0m\u001b[1;32m      2\u001b[0m \u001b[0mromanD1\u001b[0m\u001b[0;34m\u001b[0m\u001b[0;34m\u001b[0m\u001b[0m\n",
            "\u001b[0;31mTypeError\u001b[0m: 'dict' object is not callable"
          ]
        }
      ]
    },
    {
      "cell_type": "code",
      "metadata": {
        "id": "krw9xpRKlAkZ",
        "colab_type": "code",
        "colab": {
          "base_uri": "https://localhost:8080/",
          "height": 54
        },
        "outputId": "90c52df6-bea1-4479-ea0c-02a4e5eb6a72"
      },
      "source": [
        "dict_even = {x:x%2==0 for x in range(1,101)}\n",
        "print(dict_even)"
      ],
      "execution_count": 20,
      "outputs": [
        {
          "output_type": "stream",
          "text": [
            "{1: False, 2: True, 3: False, 4: True, 5: False, 6: True, 7: False, 8: True, 9: False, 10: True, 11: False, 12: True, 13: False, 14: True, 15: False, 16: True, 17: False, 18: True, 19: False, 20: True, 21: False, 22: True, 23: False, 24: True, 25: False, 26: True, 27: False, 28: True, 29: False, 30: True, 31: False, 32: True, 33: False, 34: True, 35: False, 36: True, 37: False, 38: True, 39: False, 40: True, 41: False, 42: True, 43: False, 44: True, 45: False, 46: True, 47: False, 48: True, 49: False, 50: True, 51: False, 52: True, 53: False, 54: True, 55: False, 56: True, 57: False, 58: True, 59: False, 60: True, 61: False, 62: True, 63: False, 64: True, 65: False, 66: True, 67: False, 68: True, 69: False, 70: True, 71: False, 72: True, 73: False, 74: True, 75: False, 76: True, 77: False, 78: True, 79: False, 80: True, 81: False, 82: True, 83: False, 84: True, 85: False, 86: True, 87: False, 88: True, 89: False, 90: True, 91: False, 92: True, 93: False, 94: True, 95: False, 96: True, 97: False, 98: True, 99: False, 100: True}\n"
          ],
          "name": "stdout"
        }
      ]
    },
    {
      "cell_type": "code",
      "metadata": {
        "id": "ne9iiYnXlJBT",
        "colab_type": "code",
        "colab": {
          "base_uri": "https://localhost:8080/",
          "height": 459
        },
        "outputId": "39dc7f2f-294b-430a-9e39-68a1e223d090"
      },
      "source": [
        "ascii_a2z = {num: chr(num) for num in range(97,123)}\n",
        "ascii_a2z"
      ],
      "execution_count": 21,
      "outputs": [
        {
          "output_type": "execute_result",
          "data": {
            "text/plain": [
              "{97: 'a',\n",
              " 98: 'b',\n",
              " 99: 'c',\n",
              " 100: 'd',\n",
              " 101: 'e',\n",
              " 102: 'f',\n",
              " 103: 'g',\n",
              " 104: 'h',\n",
              " 105: 'i',\n",
              " 106: 'j',\n",
              " 107: 'k',\n",
              " 108: 'l',\n",
              " 109: 'm',\n",
              " 110: 'n',\n",
              " 111: 'o',\n",
              " 112: 'p',\n",
              " 113: 'q',\n",
              " 114: 'r',\n",
              " 115: 's',\n",
              " 116: 't',\n",
              " 117: 'u',\n",
              " 118: 'v',\n",
              " 119: 'w',\n",
              " 120: 'x',\n",
              " 121: 'y',\n",
              " 122: 'z'}"
            ]
          },
          "metadata": {
            "tags": []
          },
          "execution_count": 21
        }
      ]
    },
    {
      "cell_type": "code",
      "metadata": {
        "id": "QU2kmvR3ljnz",
        "colab_type": "code",
        "colab": {
          "base_uri": "https://localhost:8080/",
          "height": 459
        },
        "outputId": "7a5ca784-ce28-453d-8e59-20b0889fd971"
      },
      "source": [
        "alphas= []\n",
        "for num in range(97,123):\n",
        "    alpha = chr(num)\n",
        "    alphas.append(alpha)\n",
        "  \n",
        "ascii_a2z = {alpha: ord(alpha) for alpha in alphas}\n",
        "ascii_a2z"
      ],
      "execution_count": 22,
      "outputs": [
        {
          "output_type": "execute_result",
          "data": {
            "text/plain": [
              "{'a': 97,\n",
              " 'b': 98,\n",
              " 'c': 99,\n",
              " 'd': 100,\n",
              " 'e': 101,\n",
              " 'f': 102,\n",
              " 'g': 103,\n",
              " 'h': 104,\n",
              " 'i': 105,\n",
              " 'j': 106,\n",
              " 'k': 107,\n",
              " 'l': 108,\n",
              " 'm': 109,\n",
              " 'n': 110,\n",
              " 'o': 111,\n",
              " 'p': 112,\n",
              " 'q': 113,\n",
              " 'r': 114,\n",
              " 's': 115,\n",
              " 't': 116,\n",
              " 'u': 117,\n",
              " 'v': 118,\n",
              " 'w': 119,\n",
              " 'x': 120,\n",
              " 'y': 121,\n",
              " 'z': 122}"
            ]
          },
          "metadata": {
            "tags": []
          },
          "execution_count": 22
        }
      ]
    },
    {
      "cell_type": "code",
      "metadata": {
        "id": "4rppPbGilsWj",
        "colab_type": "code",
        "colab": {
          "base_uri": "https://localhost:8080/",
          "height": 1000
        },
        "outputId": "66cf0a2d-937a-4075-8843-3a7a79ddcae2"
      },
      "source": [
        "ascii_dict = {num: chr(num) for num in range(256)}\n",
        "ascii_dict"
      ],
      "execution_count": 23,
      "outputs": [
        {
          "output_type": "execute_result",
          "data": {
            "text/plain": [
              "{0: '\\x00',\n",
              " 1: '\\x01',\n",
              " 2: '\\x02',\n",
              " 3: '\\x03',\n",
              " 4: '\\x04',\n",
              " 5: '\\x05',\n",
              " 6: '\\x06',\n",
              " 7: '\\x07',\n",
              " 8: '\\x08',\n",
              " 9: '\\t',\n",
              " 10: '\\n',\n",
              " 11: '\\x0b',\n",
              " 12: '\\x0c',\n",
              " 13: '\\r',\n",
              " 14: '\\x0e',\n",
              " 15: '\\x0f',\n",
              " 16: '\\x10',\n",
              " 17: '\\x11',\n",
              " 18: '\\x12',\n",
              " 19: '\\x13',\n",
              " 20: '\\x14',\n",
              " 21: '\\x15',\n",
              " 22: '\\x16',\n",
              " 23: '\\x17',\n",
              " 24: '\\x18',\n",
              " 25: '\\x19',\n",
              " 26: '\\x1a',\n",
              " 27: '\\x1b',\n",
              " 28: '\\x1c',\n",
              " 29: '\\x1d',\n",
              " 30: '\\x1e',\n",
              " 31: '\\x1f',\n",
              " 32: ' ',\n",
              " 33: '!',\n",
              " 34: '\"',\n",
              " 35: '#',\n",
              " 36: '$',\n",
              " 37: '%',\n",
              " 38: '&',\n",
              " 39: \"'\",\n",
              " 40: '(',\n",
              " 41: ')',\n",
              " 42: '*',\n",
              " 43: '+',\n",
              " 44: ',',\n",
              " 45: '-',\n",
              " 46: '.',\n",
              " 47: '/',\n",
              " 48: '0',\n",
              " 49: '1',\n",
              " 50: '2',\n",
              " 51: '3',\n",
              " 52: '4',\n",
              " 53: '5',\n",
              " 54: '6',\n",
              " 55: '7',\n",
              " 56: '8',\n",
              " 57: '9',\n",
              " 58: ':',\n",
              " 59: ';',\n",
              " 60: '<',\n",
              " 61: '=',\n",
              " 62: '>',\n",
              " 63: '?',\n",
              " 64: '@',\n",
              " 65: 'A',\n",
              " 66: 'B',\n",
              " 67: 'C',\n",
              " 68: 'D',\n",
              " 69: 'E',\n",
              " 70: 'F',\n",
              " 71: 'G',\n",
              " 72: 'H',\n",
              " 73: 'I',\n",
              " 74: 'J',\n",
              " 75: 'K',\n",
              " 76: 'L',\n",
              " 77: 'M',\n",
              " 78: 'N',\n",
              " 79: 'O',\n",
              " 80: 'P',\n",
              " 81: 'Q',\n",
              " 82: 'R',\n",
              " 83: 'S',\n",
              " 84: 'T',\n",
              " 85: 'U',\n",
              " 86: 'V',\n",
              " 87: 'W',\n",
              " 88: 'X',\n",
              " 89: 'Y',\n",
              " 90: 'Z',\n",
              " 91: '[',\n",
              " 92: '\\\\',\n",
              " 93: ']',\n",
              " 94: '^',\n",
              " 95: '_',\n",
              " 96: '`',\n",
              " 97: 'a',\n",
              " 98: 'b',\n",
              " 99: 'c',\n",
              " 100: 'd',\n",
              " 101: 'e',\n",
              " 102: 'f',\n",
              " 103: 'g',\n",
              " 104: 'h',\n",
              " 105: 'i',\n",
              " 106: 'j',\n",
              " 107: 'k',\n",
              " 108: 'l',\n",
              " 109: 'm',\n",
              " 110: 'n',\n",
              " 111: 'o',\n",
              " 112: 'p',\n",
              " 113: 'q',\n",
              " 114: 'r',\n",
              " 115: 's',\n",
              " 116: 't',\n",
              " 117: 'u',\n",
              " 118: 'v',\n",
              " 119: 'w',\n",
              " 120: 'x',\n",
              " 121: 'y',\n",
              " 122: 'z',\n",
              " 123: '{',\n",
              " 124: '|',\n",
              " 125: '}',\n",
              " 126: '~',\n",
              " 127: '\\x7f',\n",
              " 128: '\\x80',\n",
              " 129: '\\x81',\n",
              " 130: '\\x82',\n",
              " 131: '\\x83',\n",
              " 132: '\\x84',\n",
              " 133: '\\x85',\n",
              " 134: '\\x86',\n",
              " 135: '\\x87',\n",
              " 136: '\\x88',\n",
              " 137: '\\x89',\n",
              " 138: '\\x8a',\n",
              " 139: '\\x8b',\n",
              " 140: '\\x8c',\n",
              " 141: '\\x8d',\n",
              " 142: '\\x8e',\n",
              " 143: '\\x8f',\n",
              " 144: '\\x90',\n",
              " 145: '\\x91',\n",
              " 146: '\\x92',\n",
              " 147: '\\x93',\n",
              " 148: '\\x94',\n",
              " 149: '\\x95',\n",
              " 150: '\\x96',\n",
              " 151: '\\x97',\n",
              " 152: '\\x98',\n",
              " 153: '\\x99',\n",
              " 154: '\\x9a',\n",
              " 155: '\\x9b',\n",
              " 156: '\\x9c',\n",
              " 157: '\\x9d',\n",
              " 158: '\\x9e',\n",
              " 159: '\\x9f',\n",
              " 160: '\\xa0',\n",
              " 161: '¡',\n",
              " 162: '¢',\n",
              " 163: '£',\n",
              " 164: '¤',\n",
              " 165: '¥',\n",
              " 166: '¦',\n",
              " 167: '§',\n",
              " 168: '¨',\n",
              " 169: '©',\n",
              " 170: 'ª',\n",
              " 171: '«',\n",
              " 172: '¬',\n",
              " 173: '\\xad',\n",
              " 174: '®',\n",
              " 175: '¯',\n",
              " 176: '°',\n",
              " 177: '±',\n",
              " 178: '²',\n",
              " 179: '³',\n",
              " 180: '´',\n",
              " 181: 'µ',\n",
              " 182: '¶',\n",
              " 183: '·',\n",
              " 184: '¸',\n",
              " 185: '¹',\n",
              " 186: 'º',\n",
              " 187: '»',\n",
              " 188: '¼',\n",
              " 189: '½',\n",
              " 190: '¾',\n",
              " 191: '¿',\n",
              " 192: 'À',\n",
              " 193: 'Á',\n",
              " 194: 'Â',\n",
              " 195: 'Ã',\n",
              " 196: 'Ä',\n",
              " 197: 'Å',\n",
              " 198: 'Æ',\n",
              " 199: 'Ç',\n",
              " 200: 'È',\n",
              " 201: 'É',\n",
              " 202: 'Ê',\n",
              " 203: 'Ë',\n",
              " 204: 'Ì',\n",
              " 205: 'Í',\n",
              " 206: 'Î',\n",
              " 207: 'Ï',\n",
              " 208: 'Ð',\n",
              " 209: 'Ñ',\n",
              " 210: 'Ò',\n",
              " 211: 'Ó',\n",
              " 212: 'Ô',\n",
              " 213: 'Õ',\n",
              " 214: 'Ö',\n",
              " 215: '×',\n",
              " 216: 'Ø',\n",
              " 217: 'Ù',\n",
              " 218: 'Ú',\n",
              " 219: 'Û',\n",
              " 220: 'Ü',\n",
              " 221: 'Ý',\n",
              " 222: 'Þ',\n",
              " 223: 'ß',\n",
              " 224: 'à',\n",
              " 225: 'á',\n",
              " 226: 'â',\n",
              " 227: 'ã',\n",
              " 228: 'ä',\n",
              " 229: 'å',\n",
              " 230: 'æ',\n",
              " 231: 'ç',\n",
              " 232: 'è',\n",
              " 233: 'é',\n",
              " 234: 'ê',\n",
              " 235: 'ë',\n",
              " 236: 'ì',\n",
              " 237: 'í',\n",
              " 238: 'î',\n",
              " 239: 'ï',\n",
              " 240: 'ð',\n",
              " 241: 'ñ',\n",
              " 242: 'ò',\n",
              " 243: 'ó',\n",
              " 244: 'ô',\n",
              " 245: 'õ',\n",
              " 246: 'ö',\n",
              " 247: '÷',\n",
              " 248: 'ø',\n",
              " 249: 'ù',\n",
              " 250: 'ú',\n",
              " 251: 'û',\n",
              " 252: 'ü',\n",
              " 253: 'ý',\n",
              " 254: 'þ',\n",
              " 255: 'ÿ'}"
            ]
          },
          "metadata": {
            "tags": []
          },
          "execution_count": 23
        }
      ]
    },
    {
      "cell_type": "code",
      "metadata": {
        "id": "p8_LGrL1l0hD",
        "colab_type": "code",
        "colab": {
          "base_uri": "https://localhost:8080/",
          "height": 34
        },
        "outputId": "0bd97612-cc1b-430a-e598-b2ba27538ea9"
      },
      "source": [
        "ascii_dict[66]"
      ],
      "execution_count": 24,
      "outputs": [
        {
          "output_type": "execute_result",
          "data": {
            "text/plain": [
              "'B'"
            ]
          },
          "metadata": {
            "tags": []
          },
          "execution_count": 24
        }
      ]
    },
    {
      "cell_type": "code",
      "metadata": {
        "id": "7hdVnj74l8mj",
        "colab_type": "code",
        "colab": {
          "base_uri": "https://localhost:8080/",
          "height": 34
        },
        "outputId": "c2fad29a-2954-4ace-fc58-4a72478bde94"
      },
      "source": [
        "mapping = {\n",
        "        \n",
        "        'CGA': 'A',\n",
        "        'CCA': 'B',\n",
        "        'GTT': 'C',\n",
        "        'TTG': 'D',\n",
        "        'GGC': 'E',\n",
        "        'GGT': 'F',\n",
        "        'TTT': 'G',\n",
        "        'CGC': 'H',\n",
        "        'ATG': 'I',\n",
        "        'AGT': 'J',\n",
        "        'AAG': 'K',\n",
        "        'TGC': 'L',\n",
        "        'TCC': 'M',\n",
        "        'TCT': 'N',\n",
        "        'GGA': 'O',\n",
        "        'GTG': 'P',\n",
        "        'AAC': 'Q',\n",
        "        'TCA': 'R',\n",
        "        'ACG': 'S',\n",
        "        'TTC': 'T',\n",
        "        'CTG': 'U',\n",
        "        'CCT': 'V',\n",
        "        'CCG': 'W',\n",
        "        'CTA': 'X',\n",
        "        'AAA': 'Y',\n",
        "        'CTT': 'Z',\n",
        "        'ATA': ' ',\n",
        "        'TCG': ',',\n",
        "        'GAT': '.',\n",
        "        'GCT': ':',\n",
        "        'ACT': '0',\n",
        "        'ACC': '1',\n",
        "        'TAG': '2',\n",
        "        'GCA': '3',\n",
        "        'GAG': '4',\n",
        "        'AGA': '5',\n",
        "        'TTA': '6',\n",
        "        'ACA': '7',\n",
        "        'AGG': '8',\n",
        "        'GCG': '9'\n",
        "}\n",
        "\n",
        "def decode_dna( string ):\n",
        "\n",
        "    pieces = []\n",
        "    for i in range( 0, len(string), 3 ):\n",
        "        piece =  string[i:i+3]\n",
        "        # pieces.append()\n",
        "        pieces.append( mapping[piece] )\n",
        "\n",
        "    return \"\".join(pieces)\n",
        "\n",
        "\n",
        "string = 'GGTTCAATGGGCTTGTCAATGGTTCGCATATCCATGGGCACGGTTCGCGGCTCA'   \n",
        "print(decode_dna(string))"
      ],
      "execution_count": 25,
      "outputs": [
        {
          "output_type": "stream",
          "text": [
            "FRIEDRICH MIESCHER\n"
          ],
          "name": "stdout"
        }
      ]
    }
  ]
}